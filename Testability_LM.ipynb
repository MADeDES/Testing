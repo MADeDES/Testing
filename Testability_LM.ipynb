{
 "cells": [
  {
   "cell_type": "code",
   "execution_count": 1,
   "metadata": {
    "collapsed": true
   },
   "outputs": [
    {
     "name": "stdout",
     "output_type": "stream",
     "text": [
      "C:/Users/61435/OneDrive - PHM Technology/PHM Tech/Research/Testability/Testability Mini Spec/\n",
      "C:/Users/61435/OneDrive - PHM Technology/PHM Tech/Research/Testability/Testability Mini Spec/\n"
     ]
    }
   ],
   "source": [
    "import DA\n",
    "\n",
    "path = \"C:/Users/61435/OneDrive - PHM Technology/PHM Tech/Research/Testability/Testability Mini Spec/\"\n",
    "print(path)\n",
    "filename = \"ProptableMini\"\n",
    "\n",
    "base_da = DA.Diag_Analysis(path + filename, \"Base\")"
   ]
  },
  {
   "cell_type": "code",
   "execution_count": 5,
   "outputs": [],
   "source": [
    "S1 = ['C1 (Pneumatic - Mass flow rate)','C2 (Pneumatic - Mass flow rate)','Combustion System (Continuous - Data)','Engine (Discrete - Data)','Engine (Discrete - Data).1','Other G1']\n",
    "\n",
    "base_da.add_pt('S1', S1)"
   ],
   "metadata": {
    "collapsed": false,
    "pycharm": {
     "name": "#%%\n"
    }
   }
  },
  {
   "cell_type": "code",
   "execution_count": 6,
   "outputs": [
    {
     "name": "stdout",
     "output_type": "stream",
     "text": [
      "done\n"
     ]
    }
   ],
   "source": [
    "base_da.save_stats()\n",
    "print(\"done\")"
   ],
   "metadata": {
    "collapsed": false,
    "pycharm": {
     "name": "#%%\n"
    }
   }
  }
 ],
 "metadata": {
  "kernelspec": {
   "display_name": "Python 3",
   "language": "python",
   "name": "python3"
  },
  "language_info": {
   "codemirror_mode": {
    "name": "ipython",
    "version": 2
   },
   "file_extension": ".py",
   "mimetype": "text/x-python",
   "name": "python",
   "nbconvert_exporter": "python",
   "pygments_lexer": "ipython2",
   "version": "2.7.6"
  }
 },
 "nbformat": 4,
 "nbformat_minor": 0
}